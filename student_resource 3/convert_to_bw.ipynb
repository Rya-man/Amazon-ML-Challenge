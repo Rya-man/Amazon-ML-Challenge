{
 "cells": [
  {
   "cell_type": "code",
   "execution_count": 1,
   "id": "b937ee12-8416-4708-9507-052948ee9a20",
   "metadata": {},
   "outputs": [],
   "source": [
    "import os\n",
    "from PIL import Image"
   ]
  },
  {
   "cell_type": "code",
   "execution_count": 2,
   "id": "dd9cd375-99a7-4409-8a92-9ec4cc7ed8f7",
   "metadata": {},
   "outputs": [],
   "source": [
    "input_directory = 'images/'\n",
    "output_directory = 'output_images_bw/'\n",
    "\n",
    "if not os.path.exists(output_directory):\n",
    "    os.makedirs(output_directory)"
   ]
  },
  {
   "cell_type": "code",
   "execution_count": 4,
   "id": "3afda6f5-93b1-46c7-b38b-6997d6139a1c",
   "metadata": {},
   "outputs": [],
   "source": [
    "filename = '71pNmgH5u7L.jpg'\n",
    "# for filename in os.listdir(input_directory):\n",
    "input_image_path = os.path.join(input_directory, filename)\n",
    "    \n",
    "image = Image.open(input_image_path)\n",
    "bw_image = image.convert('L')\n",
    "\n",
    "output_image_path = os.path.join(output_directory, filename)\n",
    "\n",
    "    \n",
    "bw_image.save(output_image_path)\n",
    "\n"
   ]
  }
 ],
 "metadata": {
  "kernelspec": {
   "display_name": "Python 3 (ipykernel)",
   "language": "python",
   "name": "python3"
  },
  "language_info": {
   "codemirror_mode": {
    "name": "ipython",
    "version": 3
   },
   "file_extension": ".py",
   "mimetype": "text/x-python",
   "name": "python",
   "nbconvert_exporter": "python",
   "pygments_lexer": "ipython3",
   "version": "3.12.3"
  }
 },
 "nbformat": 4,
 "nbformat_minor": 5
}
